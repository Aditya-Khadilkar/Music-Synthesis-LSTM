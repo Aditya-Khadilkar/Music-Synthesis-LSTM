{
 "cells": [
  {
   "cell_type": "code",
   "execution_count": 1,
   "metadata": {},
   "outputs": [
    {
     "name": "stderr",
     "output_type": "stream",
     "text": [
      "Using TensorFlow backend.\n"
     ]
    }
   ],
   "source": [
    "import numpy\n",
    "from keras.models import Sequential\n",
    "from keras.layers import Dense\n",
    "from keras.layers import Dropout\n",
    "from keras.layers import LSTM\n",
    "from keras.callbacks import ModelCheckpoint\n",
    "from keras.utils import np_utils"
   ]
  },
  {
   "cell_type": "code",
   "execution_count": 2,
   "metadata": {
    "collapsed": true
   },
   "outputs": [],
   "source": [
    "import os\n",
    "os.chdir('F:\\Machine Learning')"
   ]
  },
  {
   "cell_type": "code",
   "execution_count": 3,
   "metadata": {
    "collapsed": true
   },
   "outputs": [],
   "source": [
    "filename = \"nnp.txt\"\n",
    "raw_text = open(filename).read()"
   ]
  },
  {
   "cell_type": "code",
   "execution_count": 4,
   "metadata": {
    "collapsed": true
   },
   "outputs": [],
   "source": [
    "chars = sorted(list(set(raw_text)))\n",
    "char_to_int = dict((c, i) for i, c in enumerate(chars))"
   ]
  },
  {
   "cell_type": "code",
   "execution_count": 5,
   "metadata": {},
   "outputs": [
    {
     "name": "stdout",
     "output_type": "stream",
     "text": [
      "Total Characters:  3649\n",
      "Total Vocab:  44\n"
     ]
    }
   ],
   "source": [
    "n_chars = len(raw_text)\n",
    "n_vocab = len(chars)\n",
    "print(\"Total Characters: \", n_chars)\n",
    "print(\"Total Vocab: \", n_vocab)"
   ]
  },
  {
   "cell_type": "code",
   "execution_count": 18,
   "metadata": {},
   "outputs": [
    {
     "name": "stdout",
     "output_type": "stream",
     "text": [
      "Total Patterns:  3393\n"
     ]
    }
   ],
   "source": [
    "# prepare the dataset of input to output pairs encoded as integers\n",
    "seq_length = 256\n",
    "dataX = []\n",
    "dataY = []\n",
    "for i in range(0, n_chars - seq_length, 1):\n",
    "    seq_in = raw_text[i:i + seq_length]\n",
    "    seq_out = raw_text[i + seq_length]\n",
    "    dataX.append([char_to_int[char] for char in seq_in])\n",
    "    dataY.append(char_to_int[seq_out])\n",
    "n_patterns = len(dataX)\n",
    "print(\"Total Patterns: \", n_patterns)"
   ]
  },
  {
   "cell_type": "code",
   "execution_count": 19,
   "metadata": {
    "collapsed": true
   },
   "outputs": [],
   "source": [
    "# reshape X to be [samples, time steps, features]\n",
    "X = numpy.reshape(dataX, (n_patterns, seq_length, 1))\n",
    "# normalize\n",
    "X = X / float(n_vocab)\n",
    "# one hot encode the output variable\n",
    "y = np_utils.to_categorical(dataY)"
   ]
  },
  {
   "cell_type": "code",
   "execution_count": 22,
   "metadata": {
    "collapsed": true
   },
   "outputs": [],
   "source": [
    "# define the LSTM model\n",
    "model = Sequential()\n",
    "model.add(LSTM(256, input_shape=(X.shape[1], X.shape[2])))\n",
    "model.add(Dropout(0.35))\n",
    "model.add(Dense(y.shape[1], activation='softmax'))\n",
    "model.compile(loss='categorical_crossentropy', optimizer='adam')"
   ]
  },
  {
   "cell_type": "code",
   "execution_count": 23,
   "metadata": {
    "collapsed": true
   },
   "outputs": [],
   "source": [
    "# define the checkpoint\n",
    "filepath=\"weights-improvement-{epoch:02d}-{loss:.4f}.hdf5\"\n",
    "checkpoint = ModelCheckpoint(filepath, monitor='loss', verbose=1, save_best_only=True, mode='min')\n",
    "callbacks_list = [checkpoint]"
   ]
  },
  {
   "cell_type": "code",
   "execution_count": 24,
   "metadata": {},
   "outputs": [
    {
     "name": "stdout",
     "output_type": "stream",
     "text": [
      "Epoch 1/20\n",
      "3393/3393 [==============================] - 41s 12ms/step - loss: 3.3561\n",
      "\n",
      "Epoch 00001: loss improved from inf to 3.35610, saving model to weights-improvement-01-3.3561.hdf5\n",
      "Epoch 2/20\n",
      "3393/3393 [==============================] - 44s 13ms/step - loss: 2.9913\n",
      "\n",
      "Epoch 00002: loss improved from 3.35610 to 2.99126, saving model to weights-improvement-02-2.9913.hdf5\n",
      "Epoch 3/20\n",
      "3393/3393 [==============================] - 52s 15ms/step - loss: 2.9557\n",
      "\n",
      "Epoch 00003: loss improved from 2.99126 to 2.95565, saving model to weights-improvement-03-2.9557.hdf5\n",
      "Epoch 4/20\n",
      "3393/3393 [==============================] - 57s 17ms/step - loss: 2.9321\n",
      "\n",
      "Epoch 00004: loss improved from 2.95565 to 2.93206, saving model to weights-improvement-04-2.9321.hdf5\n",
      "Epoch 5/20\n",
      "3393/3393 [==============================] - 63s 18ms/step - loss: 2.9321\n",
      "\n",
      "Epoch 00005: loss did not improve from 2.93206\n",
      "Epoch 6/20\n",
      "3393/3393 [==============================] - 58s 17ms/step - loss: 2.9221\n",
      "\n",
      "Epoch 00006: loss improved from 2.93206 to 2.92214, saving model to weights-improvement-06-2.9221.hdf5\n",
      "Epoch 7/20\n",
      "3393/3393 [==============================] - 59s 17ms/step - loss: 2.9233\n",
      "\n",
      "Epoch 00007: loss did not improve from 2.92214\n",
      "Epoch 8/20\n",
      "3393/3393 [==============================] - 60s 18ms/step - loss: 2.9129\n",
      "\n",
      "Epoch 00008: loss improved from 2.92214 to 2.91288, saving model to weights-improvement-08-2.9129.hdf5\n",
      "Epoch 9/20\n",
      "3393/3393 [==============================] - 61s 18ms/step - loss: 2.9168\n",
      "\n",
      "Epoch 00009: loss did not improve from 2.91288\n",
      "Epoch 10/20\n",
      "3393/3393 [==============================] - 62s 18ms/step - loss: 2.9169\n",
      "\n",
      "Epoch 00010: loss did not improve from 2.91288\n",
      "Epoch 11/20\n",
      "3393/3393 [==============================] - 63s 19ms/step - loss: 2.9150\n",
      "\n",
      "Epoch 00011: loss did not improve from 2.91288\n",
      "Epoch 12/20\n",
      "3393/3393 [==============================] - 64s 19ms/step - loss: 2.9028\n",
      "\n",
      "Epoch 00012: loss improved from 2.91288 to 2.90284, saving model to weights-improvement-12-2.9028.hdf5\n",
      "Epoch 13/20\n",
      "3393/3393 [==============================] - 65s 19ms/step - loss: 2.8971\n",
      "\n",
      "Epoch 00013: loss improved from 2.90284 to 2.89710, saving model to weights-improvement-13-2.8971.hdf5\n",
      "Epoch 14/20\n",
      "3393/3393 [==============================] - 65s 19ms/step - loss: 2.8959\n",
      "\n",
      "Epoch 00014: loss improved from 2.89710 to 2.89585, saving model to weights-improvement-14-2.8959.hdf5\n",
      "Epoch 15/20\n",
      "3393/3393 [==============================] - 65s 19ms/step - loss: 2.8892\n",
      "\n",
      "Epoch 00015: loss improved from 2.89585 to 2.88916, saving model to weights-improvement-15-2.8892.hdf5\n",
      "Epoch 16/20\n",
      "3393/3393 [==============================] - 64s 19ms/step - loss: 2.8816\n",
      "\n",
      "Epoch 00016: loss improved from 2.88916 to 2.88162, saving model to weights-improvement-16-2.8816.hdf5\n",
      "Epoch 17/20\n",
      "3393/3393 [==============================] - 65s 19ms/step - loss: 2.8771\n",
      "\n",
      "Epoch 00017: loss improved from 2.88162 to 2.87707, saving model to weights-improvement-17-2.8771.hdf5\n",
      "Epoch 18/20\n",
      "3393/3393 [==============================] - 64s 19ms/step - loss: 2.8643\n",
      "\n",
      "Epoch 00018: loss improved from 2.87707 to 2.86426, saving model to weights-improvement-18-2.8643.hdf5\n",
      "Epoch 19/20\n",
      "3393/3393 [==============================] - 64s 19ms/step - loss: 2.8489\n",
      "\n",
      "Epoch 00019: loss improved from 2.86426 to 2.84892, saving model to weights-improvement-19-2.8489.hdf5\n",
      "Epoch 20/20\n",
      "3393/3393 [==============================] - 65s 19ms/step - loss: 2.8352\n",
      "\n",
      "Epoch 00020: loss improved from 2.84892 to 2.83521, saving model to weights-improvement-20-2.8352.hdf5\n"
     ]
    },
    {
     "data": {
      "text/plain": [
       "<keras.callbacks.History at 0x225c7142be0>"
      ]
     },
     "execution_count": 24,
     "metadata": {},
     "output_type": "execute_result"
    }
   ],
   "source": [
    "model.fit(X, y, epochs=20, batch_size=256, callbacks=callbacks_list)"
   ]
  },
  {
   "cell_type": "code",
   "execution_count": 25,
   "metadata": {
    "collapsed": true
   },
   "outputs": [],
   "source": [
    "# load the network weights\n",
    "filename = \"weights-improvement-19-2.8489.hdf5\"\n",
    "model.load_weights(filename)\n",
    "model.compile(loss='categorical_crossentropy', optimizer='adam')"
   ]
  },
  {
   "cell_type": "code",
   "execution_count": 26,
   "metadata": {
    "collapsed": true
   },
   "outputs": [],
   "source": [
    "int_to_char = dict((i, c) for i, c in enumerate(chars))"
   ]
  },
  {
   "cell_type": "code",
   "execution_count": 27,
   "metadata": {},
   "outputs": [
    {
     "name": "stdout",
     "output_type": "stream",
     "text": [
      "Seed:\n",
      "\" 6|\n",
      "\"D7\"A3 B c2|c3 B A2|\"G\"B4 c2|d6|\"C\"e4 e2|g3 f e2|\n",
      "\"G\"d6|B6|\"D7\"A3 B c2|D2 E2 F2|\"G\"G3 A GF|!D.C.!G6|]\n",
      "!mp! D2|:\"G\" G4 B2|d4 B2|\"C\"c3 e c2|\"D\"A4 F2|\"G\"G4 B2|d3 g g2|\n",
      "\"G\"f d3 \"Em\"B2|\"D\"d4 c2|\"G\"B4 G2|D4 B,2|\"C\"E3 C E2|\"D\"D4 GF|\n",
      "\"C\"E3 \"G\"D \"C\"E2|\"Am\"C \"G\"B \"\n"
     ]
    },
    {
     "ename": "NameError",
     "evalue": "name 'sys' is not defined",
     "output_type": "error",
     "traceback": [
      "\u001b[1;31m---------------------------------------------------------------------------\u001b[0m",
      "\u001b[1;31mNameError\u001b[0m                                 Traceback (most recent call last)",
      "\u001b[1;32m<ipython-input-27-87335c365889>\u001b[0m in \u001b[0;36m<module>\u001b[1;34m()\u001b[0m\n\u001b[0;32m     12\u001b[0m     \u001b[0mresult\u001b[0m \u001b[1;33m=\u001b[0m \u001b[0mint_to_char\u001b[0m\u001b[1;33m[\u001b[0m\u001b[0mindex\u001b[0m\u001b[1;33m]\u001b[0m\u001b[1;33m\u001b[0m\u001b[0m\n\u001b[0;32m     13\u001b[0m     \u001b[0mseq_in\u001b[0m \u001b[1;33m=\u001b[0m \u001b[1;33m[\u001b[0m\u001b[0mint_to_char\u001b[0m\u001b[1;33m[\u001b[0m\u001b[0mvalue\u001b[0m\u001b[1;33m]\u001b[0m \u001b[1;32mfor\u001b[0m \u001b[0mvalue\u001b[0m \u001b[1;32min\u001b[0m \u001b[0mpattern\u001b[0m\u001b[1;33m]\u001b[0m\u001b[1;33m\u001b[0m\u001b[0m\n\u001b[1;32m---> 14\u001b[1;33m     \u001b[0msys\u001b[0m\u001b[1;33m.\u001b[0m\u001b[0mstdout\u001b[0m\u001b[1;33m.\u001b[0m\u001b[0mwrite\u001b[0m\u001b[1;33m(\u001b[0m\u001b[0mresult\u001b[0m\u001b[1;33m)\u001b[0m\u001b[1;33m\u001b[0m\u001b[0m\n\u001b[0m\u001b[0;32m     15\u001b[0m     \u001b[0mpattern\u001b[0m\u001b[1;33m.\u001b[0m\u001b[0mappend\u001b[0m\u001b[1;33m(\u001b[0m\u001b[0mindex\u001b[0m\u001b[1;33m)\u001b[0m\u001b[1;33m\u001b[0m\u001b[0m\n\u001b[0;32m     16\u001b[0m     \u001b[0mpattern\u001b[0m \u001b[1;33m=\u001b[0m \u001b[0mpattern\u001b[0m\u001b[1;33m[\u001b[0m\u001b[1;36m1\u001b[0m\u001b[1;33m:\u001b[0m\u001b[0mlen\u001b[0m\u001b[1;33m(\u001b[0m\u001b[0mpattern\u001b[0m\u001b[1;33m)\u001b[0m\u001b[1;33m]\u001b[0m\u001b[1;33m\u001b[0m\u001b[0m\n",
      "\u001b[1;31mNameError\u001b[0m: name 'sys' is not defined"
     ]
    }
   ],
   "source": [
    "# pick a random seed\n",
    "start = numpy.random.randint(0, len(dataX)-1)\n",
    "pattern = dataX[start]\n",
    "print(\"Seed:\")\n",
    "print(\"\\\"\", ''.join([int_to_char[value] for value in pattern]), \"\\\"\")\n",
    "# generate characters\n",
    "for i in range(1000):\n",
    "    x = numpy.reshape(pattern, (1, len(pattern), 1))\n",
    "    x = x / float(n_vocab)\n",
    "    prediction = model.predict(x, verbose=0)\n",
    "    index = numpy.argmax(prediction)\n",
    "    result = int_to_char[index]\n",
    "    seq_in = [int_to_char[value] for value in pattern]\n",
    "    sys.stdout.write(result)\n",
    "    pattern.append(index)\n",
    "    pattern = pattern[1:len(pattern)]\n",
    "print(\"\\nDone.\")"
   ]
  },
  {
   "cell_type": "code",
   "execution_count": null,
   "metadata": {
    "collapsed": true
   },
   "outputs": [],
   "source": []
  }
 ],
 "metadata": {
  "kernelspec": {
   "display_name": "Python 3",
   "language": "python",
   "name": "python3"
  },
  "language_info": {
   "codemirror_mode": {
    "name": "ipython",
    "version": 3
   },
   "file_extension": ".py",
   "mimetype": "text/x-python",
   "name": "python",
   "nbconvert_exporter": "python",
   "pygments_lexer": "ipython3",
   "version": "3.6.1"
  }
 },
 "nbformat": 4,
 "nbformat_minor": 2
}
